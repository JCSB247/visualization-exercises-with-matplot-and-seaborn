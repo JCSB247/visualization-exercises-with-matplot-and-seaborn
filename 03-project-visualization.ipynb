{
 "cells": [
  {
   "cell_type": "markdown",
   "metadata": {},
   "source": [
    "# Ejercicios de Visualización con Matplotlib y Seaborn\n",
    "\n",
    "La visualización de datos es una de las herramientas más importantes en el análisis de datos y la ciencia de datos. No solo nos permite explorar y entender mejor los datos, sino que también nos ayuda a comunicar hallazgos de manera efectiva. A través de gráficos, podemos detectar patrones, relaciones y anomalías que serían difíciles de identificar solo con números o tablas."
   ],
   "id": "243299caaf097fa0"
  },
  {
   "cell_type": "code",
   "metadata": {
    "ExecuteTime": {
     "end_time": "2025-10-10T02:16:53.007296Z",
     "start_time": "2025-10-10T02:16:53.003651Z"
    }
   },
   "source": [
    "# Importar librerías necesarias\n",
    "import numpy as np\n",
    "import pandas as pd\n",
    "import matplotlib.pyplot as plt\n",
    "import seaborn as sns\n",
    "from sklearn.datasets import load_iris"
   ],
   "id": "67452b5c802efee3",
   "outputs": [],
   "execution_count": 27
  },
  {
   "cell_type": "markdown",
   "metadata": {},
   "source": [
    "## Ejercicio 1 - Gráfico de líneas simple\n",
    "\n",
    "Supongamos que, en tu oficina, te toma 10 segundos recorrer 25 metros caminando tranquilamente hacia la máquina de café. Si queremos expresar esta situación como una función lineal de la distancia respecto al tiempo, usamos la fórmula:\n",
    "\n",
    "$\n",
    "\\text{distancia} = \\text{velocidad} \\times \\text{tiempo}\n",
    "$\n",
    "\n",
    "\n",
    "\n",
    "Dado que la velocidad es constante, esta representa la pendiente de la función y se puede interpretar como la primera derivada de la distancia con respecto al tiempo. Es decir, nos indica qué tan rápido cambia la distancia mientras pasa el tiempo.\n",
    "\n",
    "- **Calcula la velocidad constante a la que caminas:** Sabemos que recorriste 25 metros en 10 segundos. ¿Cuál es la velocidad (en metros/segundo)?\n",
    "- **Construye la función lineal que describe cómo cambia la distancia con el tiempo:** Usa la fórmula `distancia = velocidad × tiempo` para calcular la distancia recorrida en cada segundo desde 0 a 10.\n",
    "- **Usa Matplotlib para graficar cómo cambia la distancia con el tiempo:** Agrega etiquetas a los ejes y un título al gráfico."
   ],
   "id": "a6e06f093180d536"
  },
  {
   "cell_type": "code",
   "metadata": {
    "ExecuteTime": {
     "end_time": "2025-10-10T02:16:53.057898Z",
     "start_time": "2025-10-10T02:16:53.052020Z"
    }
   },
   "source": [
    "seconds = np.arange(0, 11)  # Array con valores de 0 a 10\n",
    "seconds"
   ],
   "id": "1a1fbe6a3b8d1101",
   "outputs": [
    {
     "data": {
      "text/plain": [
       "array([ 0,  1,  2,  3,  4,  5,  6,  7,  8,  9, 10])"
      ]
     },
     "execution_count": 28,
     "metadata": {},
     "output_type": "execute_result"
    }
   ],
   "execution_count": 28
  },
  {
   "metadata": {
    "ExecuteTime": {
     "end_time": "2025-10-10T02:16:53.129574Z",
     "start_time": "2025-10-10T02:16:53.126265Z"
    }
   },
   "cell_type": "code",
   "source": "# Tu código",
   "id": "a290ae7202bcb482",
   "outputs": [],
   "execution_count": 29
  },
  {
   "cell_type": "markdown",
   "id": "6f4cc545",
   "metadata": {},
   "source": [
    "### ¿Qué crees que pasaría con la gráfica si caminaras más rápido o más lento? ¿Cómo cambiaría la pendiente?\n",
    "\n",
    "- Prueba modificar la velocidad a 3 m/s y vuelve a graficar.\n",
    "- Escribe tus observaciones o conclusiones"
   ]
  },
  {
   "cell_type": "code",
   "id": "a157845cb3b7266e",
   "metadata": {
    "ExecuteTime": {
     "end_time": "2025-10-10T02:16:53.859918Z",
     "start_time": "2025-10-10T02:16:53.842097Z"
    }
   },
   "source": [
    "velocity = 3\n",
    "distance = velocity * seconds\n",
    "distance"
   ],
   "outputs": [
    {
     "data": {
      "text/plain": [
       "array([ 0,  3,  6,  9, 12, 15, 18, 21, 24, 27, 30])"
      ]
     },
     "execution_count": 30,
     "metadata": {},
     "output_type": "execute_result"
    }
   ],
   "execution_count": 30
  },
  {
   "metadata": {
    "ExecuteTime": {
     "end_time": "2025-10-10T02:16:53.919953Z",
     "start_time": "2025-10-10T02:16:53.915329Z"
    }
   },
   "cell_type": "code",
   "source": "# Tu código",
   "id": "af612113",
   "outputs": [],
   "execution_count": 31
  },
  {
   "metadata": {},
   "cell_type": "markdown",
   "source": "#### Mis observaciones\n",
   "id": "2baac8311ac5a54f"
  },
  {
   "cell_type": "markdown",
   "metadata": {},
   "source": [
    "## Ejercicio 2 - Representar visualmente datos categóricos.\n",
    "\n",
    "Imagina que estás analizando cuántos estudiantes están matriculados en distintas carreras dentro de una universidad. Estos datos, que representan **categorías** (las carreras), son ideales para visualizar usando un **gráfico de barras**.\n",
    "\n",
    "A continuación, se presenta un pequeño conjunto de datos con la cantidad de estudiantes por carrera."
   ],
   "id": "d7d5d8a3fa5ae9a7"
  },
  {
   "cell_type": "code",
   "id": "4a5aa110",
   "metadata": {
    "ExecuteTime": {
     "end_time": "2025-10-10T02:16:54.840477Z",
     "start_time": "2025-10-10T02:16:54.807049Z"
    }
   },
   "source": [
    "df_careers = pd.DataFrame({'Carrera': ['Ingeniería', 'Medicina', 'Derecho', 'Psicología'],\n",
    "                           'Estudiantes': [120, 80, 60, 100]})\n",
    "\n",
    "df_careers"
   ],
   "outputs": [
    {
     "data": {
      "text/plain": [
       "      Carrera  Estudiantes\n",
       "0  Ingeniería          120\n",
       "1    Medicina           80\n",
       "2     Derecho           60\n",
       "3  Psicología          100"
      ],
      "text/html": [
       "<div>\n",
       "<style scoped>\n",
       "    .dataframe tbody tr th:only-of-type {\n",
       "        vertical-align: middle;\n",
       "    }\n",
       "\n",
       "    .dataframe tbody tr th {\n",
       "        vertical-align: top;\n",
       "    }\n",
       "\n",
       "    .dataframe thead th {\n",
       "        text-align: right;\n",
       "    }\n",
       "</style>\n",
       "<table border=\"1\" class=\"dataframe\">\n",
       "  <thead>\n",
       "    <tr style=\"text-align: right;\">\n",
       "      <th></th>\n",
       "      <th>Carrera</th>\n",
       "      <th>Estudiantes</th>\n",
       "    </tr>\n",
       "  </thead>\n",
       "  <tbody>\n",
       "    <tr>\n",
       "      <th>0</th>\n",
       "      <td>Ingeniería</td>\n",
       "      <td>120</td>\n",
       "    </tr>\n",
       "    <tr>\n",
       "      <th>1</th>\n",
       "      <td>Medicina</td>\n",
       "      <td>80</td>\n",
       "    </tr>\n",
       "    <tr>\n",
       "      <th>2</th>\n",
       "      <td>Derecho</td>\n",
       "      <td>60</td>\n",
       "    </tr>\n",
       "    <tr>\n",
       "      <th>3</th>\n",
       "      <td>Psicología</td>\n",
       "      <td>100</td>\n",
       "    </tr>\n",
       "  </tbody>\n",
       "</table>\n",
       "</div>"
      ]
     },
     "execution_count": 32,
     "metadata": {},
     "output_type": "execute_result"
    }
   ],
   "execution_count": 32
  },
  {
   "cell_type": "markdown",
   "id": "989958c0",
   "metadata": {},
   "source": [
    "1. Representa gráficamente cuántos estudiantes hay en cada carrera y utiliza un gráfico de barras vertical con Matplotlib. \n",
    "2. Etiqueta los ejes correctamente y agrega un título descriptivo.\n",
    "3. Usa un color que ayude a destacar las diferencias entre categorías.\n",
    "4. Escribe tus observaciones o conclusiones en una celda markdown\n"
   ]
  },
  {
   "cell_type": "code",
   "id": "bb3a07cf",
   "metadata": {
    "ExecuteTime": {
     "end_time": "2025-10-10T02:16:56.428362Z",
     "start_time": "2025-10-10T02:16:56.423298Z"
    }
   },
   "source": "# Tu código",
   "outputs": [],
   "execution_count": 33
  },
  {
   "metadata": {},
   "cell_type": "markdown",
   "source": "#### Conclusiones, observaciones, notas\n",
   "id": "b8c2bad1596b120f"
  },
  {
   "cell_type": "markdown",
   "id": "dce10461",
   "metadata": {},
   "source": [
    "### ¿Qué pasaría si usás un gráfico de barras **horizontal**? ¿Te resulta más legible?\n",
    "1. Intenta hacerlo\n",
    "2. Escribe tus observaciones o conclusiones en una celda markdown"
   ]
  },
  {
   "cell_type": "code",
   "id": "0fd70161",
   "metadata": {
    "ExecuteTime": {
     "end_time": "2025-10-10T02:16:56.558042Z",
     "start_time": "2025-10-10T02:16:56.552260Z"
    }
   },
   "source": "# Tu código",
   "outputs": [],
   "execution_count": 34
  },
  {
   "metadata": {},
   "cell_type": "markdown",
   "source": "#### Conclusiones, observaciones, notas\n",
   "id": "d9ca5cc3a3361d3f"
  },
  {
   "cell_type": "markdown",
   "metadata": {},
   "source": [
    "## Ejercicio 3: Visualizar proporciones con un gráfico circular.\n",
    "\n",
    "Supongamos que deseas entender cómo se distribuyen los estudiantes entre distintas carreras en una universidad. Aunque ya representaste estos datos con un gráfico de barras, ahora quieres ver **qué porcentaje del total representa cada carrera**.\n",
    "\n",
    "Una forma muy común de representar proporciones es usando un **gráfico de pastel (pie chart)**, ya que permite tener una visión rápida e intuitiva de cómo se divide el todo.\n",
    "\n",
    "\n",
    "- Representa los datos de `df_careers` como un gráfico de pastel.\n",
    "- Muestra el **porcentaje** que representa cada carrera sobre el total.\n",
    "- Agrega un **título descriptivo** que explique qué se está visualizando.\n",
    "- Escribe tus observaciones o conclusiones en una celda markdown."
   ],
   "id": "523154afd34a05eb"
  },
  {
   "metadata": {
    "ExecuteTime": {
     "end_time": "2025-10-10T02:16:56.624717Z",
     "start_time": "2025-10-10T02:16:56.609394Z"
    }
   },
   "cell_type": "code",
   "source": "df_careers",
   "id": "edc4d5dc68ca3cb8",
   "outputs": [
    {
     "data": {
      "text/plain": [
       "      Carrera  Estudiantes\n",
       "0  Ingeniería          120\n",
       "1    Medicina           80\n",
       "2     Derecho           60\n",
       "3  Psicología          100"
      ],
      "text/html": [
       "<div>\n",
       "<style scoped>\n",
       "    .dataframe tbody tr th:only-of-type {\n",
       "        vertical-align: middle;\n",
       "    }\n",
       "\n",
       "    .dataframe tbody tr th {\n",
       "        vertical-align: top;\n",
       "    }\n",
       "\n",
       "    .dataframe thead th {\n",
       "        text-align: right;\n",
       "    }\n",
       "</style>\n",
       "<table border=\"1\" class=\"dataframe\">\n",
       "  <thead>\n",
       "    <tr style=\"text-align: right;\">\n",
       "      <th></th>\n",
       "      <th>Carrera</th>\n",
       "      <th>Estudiantes</th>\n",
       "    </tr>\n",
       "  </thead>\n",
       "  <tbody>\n",
       "    <tr>\n",
       "      <th>0</th>\n",
       "      <td>Ingeniería</td>\n",
       "      <td>120</td>\n",
       "    </tr>\n",
       "    <tr>\n",
       "      <th>1</th>\n",
       "      <td>Medicina</td>\n",
       "      <td>80</td>\n",
       "    </tr>\n",
       "    <tr>\n",
       "      <th>2</th>\n",
       "      <td>Derecho</td>\n",
       "      <td>60</td>\n",
       "    </tr>\n",
       "    <tr>\n",
       "      <th>3</th>\n",
       "      <td>Psicología</td>\n",
       "      <td>100</td>\n",
       "    </tr>\n",
       "  </tbody>\n",
       "</table>\n",
       "</div>"
      ]
     },
     "execution_count": 35,
     "metadata": {},
     "output_type": "execute_result"
    }
   ],
   "execution_count": 35
  },
  {
   "cell_type": "code",
   "metadata": {
    "ExecuteTime": {
     "end_time": "2025-10-10T02:16:56.684806Z",
     "start_time": "2025-10-10T02:16:56.677095Z"
    }
   },
   "source": "# Tu código",
   "id": "46bccb6b4a30fbcf",
   "outputs": [],
   "execution_count": 36
  },
  {
   "cell_type": "markdown",
   "metadata": {},
   "source": [
    "## Ejercicio 4 - Explorar la relación entre dos variables numéricas creando un gráfico de dispersión con Seaborn\n",
    "\n",
    "Imagina que estás analizando las características de distintas especies de flores. Cada flor tiene varias medidas:\n",
    "\n",
    "- Largo del sépalo\n",
    "- Ancho del sépalo\n",
    "- Largo del pétalo\n",
    "- Ancho del pétalo\n",
    "- Especie a la que pertenece\n",
    "\n",
    "Una excelente forma de **visualizar la relación entre dos variables numéricas** es mediante un **gráfico de dispersión** (`scatter plot`).\n",
    "\n",
    "En este caso, vamos a explorar si existe una relación entre `largo` y `ancho` del sépalo, y si esta varía según la especie de la flor.\n"
   ],
   "id": "de77849bb9035773"
  },
  {
   "metadata": {
    "ExecuteTime": {
     "end_time": "2025-10-10T02:16:56.836706Z",
     "start_time": "2025-10-10T02:16:56.802987Z"
    }
   },
   "cell_type": "code",
   "source": [
    "# DataFrame basado en el dataset: iris de la librería sklearn\n",
    "data, target = load_iris(return_X_y=True, as_frame=True)\n",
    "df_iris = data\n",
    "df_iris['target'] = target\n",
    "df_iris"
   ],
   "id": "b387f7b5696b07d2",
   "outputs": [
    {
     "data": {
      "text/plain": [
       "     sepal length (cm)  sepal width (cm)  petal length (cm)  petal width (cm)  \\\n",
       "0                  5.1               3.5                1.4               0.2   \n",
       "1                  4.9               3.0                1.4               0.2   \n",
       "2                  4.7               3.2                1.3               0.2   \n",
       "3                  4.6               3.1                1.5               0.2   \n",
       "4                  5.0               3.6                1.4               0.2   \n",
       "..                 ...               ...                ...               ...   \n",
       "145                6.7               3.0                5.2               2.3   \n",
       "146                6.3               2.5                5.0               1.9   \n",
       "147                6.5               3.0                5.2               2.0   \n",
       "148                6.2               3.4                5.4               2.3   \n",
       "149                5.9               3.0                5.1               1.8   \n",
       "\n",
       "     target  \n",
       "0         0  \n",
       "1         0  \n",
       "2         0  \n",
       "3         0  \n",
       "4         0  \n",
       "..      ...  \n",
       "145       2  \n",
       "146       2  \n",
       "147       2  \n",
       "148       2  \n",
       "149       2  \n",
       "\n",
       "[150 rows x 5 columns]"
      ],
      "text/html": [
       "<div>\n",
       "<style scoped>\n",
       "    .dataframe tbody tr th:only-of-type {\n",
       "        vertical-align: middle;\n",
       "    }\n",
       "\n",
       "    .dataframe tbody tr th {\n",
       "        vertical-align: top;\n",
       "    }\n",
       "\n",
       "    .dataframe thead th {\n",
       "        text-align: right;\n",
       "    }\n",
       "</style>\n",
       "<table border=\"1\" class=\"dataframe\">\n",
       "  <thead>\n",
       "    <tr style=\"text-align: right;\">\n",
       "      <th></th>\n",
       "      <th>sepal length (cm)</th>\n",
       "      <th>sepal width (cm)</th>\n",
       "      <th>petal length (cm)</th>\n",
       "      <th>petal width (cm)</th>\n",
       "      <th>target</th>\n",
       "    </tr>\n",
       "  </thead>\n",
       "  <tbody>\n",
       "    <tr>\n",
       "      <th>0</th>\n",
       "      <td>5.1</td>\n",
       "      <td>3.5</td>\n",
       "      <td>1.4</td>\n",
       "      <td>0.2</td>\n",
       "      <td>0</td>\n",
       "    </tr>\n",
       "    <tr>\n",
       "      <th>1</th>\n",
       "      <td>4.9</td>\n",
       "      <td>3.0</td>\n",
       "      <td>1.4</td>\n",
       "      <td>0.2</td>\n",
       "      <td>0</td>\n",
       "    </tr>\n",
       "    <tr>\n",
       "      <th>2</th>\n",
       "      <td>4.7</td>\n",
       "      <td>3.2</td>\n",
       "      <td>1.3</td>\n",
       "      <td>0.2</td>\n",
       "      <td>0</td>\n",
       "    </tr>\n",
       "    <tr>\n",
       "      <th>3</th>\n",
       "      <td>4.6</td>\n",
       "      <td>3.1</td>\n",
       "      <td>1.5</td>\n",
       "      <td>0.2</td>\n",
       "      <td>0</td>\n",
       "    </tr>\n",
       "    <tr>\n",
       "      <th>4</th>\n",
       "      <td>5.0</td>\n",
       "      <td>3.6</td>\n",
       "      <td>1.4</td>\n",
       "      <td>0.2</td>\n",
       "      <td>0</td>\n",
       "    </tr>\n",
       "    <tr>\n",
       "      <th>...</th>\n",
       "      <td>...</td>\n",
       "      <td>...</td>\n",
       "      <td>...</td>\n",
       "      <td>...</td>\n",
       "      <td>...</td>\n",
       "    </tr>\n",
       "    <tr>\n",
       "      <th>145</th>\n",
       "      <td>6.7</td>\n",
       "      <td>3.0</td>\n",
       "      <td>5.2</td>\n",
       "      <td>2.3</td>\n",
       "      <td>2</td>\n",
       "    </tr>\n",
       "    <tr>\n",
       "      <th>146</th>\n",
       "      <td>6.3</td>\n",
       "      <td>2.5</td>\n",
       "      <td>5.0</td>\n",
       "      <td>1.9</td>\n",
       "      <td>2</td>\n",
       "    </tr>\n",
       "    <tr>\n",
       "      <th>147</th>\n",
       "      <td>6.5</td>\n",
       "      <td>3.0</td>\n",
       "      <td>5.2</td>\n",
       "      <td>2.0</td>\n",
       "      <td>2</td>\n",
       "    </tr>\n",
       "    <tr>\n",
       "      <th>148</th>\n",
       "      <td>6.2</td>\n",
       "      <td>3.4</td>\n",
       "      <td>5.4</td>\n",
       "      <td>2.3</td>\n",
       "      <td>2</td>\n",
       "    </tr>\n",
       "    <tr>\n",
       "      <th>149</th>\n",
       "      <td>5.9</td>\n",
       "      <td>3.0</td>\n",
       "      <td>5.1</td>\n",
       "      <td>1.8</td>\n",
       "      <td>2</td>\n",
       "    </tr>\n",
       "  </tbody>\n",
       "</table>\n",
       "<p>150 rows × 5 columns</p>\n",
       "</div>"
      ]
     },
     "execution_count": 37,
     "metadata": {},
     "output_type": "execute_result"
    }
   ],
   "execution_count": 37
  },
  {
   "metadata": {},
   "cell_type": "markdown",
   "source": [
    "Generamos la columna 'species' basándome en la columna 'target'\n",
    "\n",
    "Siendo:\n",
    "- la clase 0 una flor iris setosa,\n",
    "- la clase 1 una flor iris versicolor y\n",
    "- la clase 2 una flor iris virginica."
   ],
   "id": "125f7c3a10ec4a47"
  },
  {
   "metadata": {
    "ExecuteTime": {
     "end_time": "2025-10-10T02:16:57.806769Z",
     "start_time": "2025-10-10T02:16:57.745309Z"
    }
   },
   "cell_type": "code",
   "source": [
    "df_iris['species'] = df_iris['target'].apply(lambda x: ['setosa', 'versicolor', 'virginica'][x])\n",
    "df_iris.drop('target', axis=1, inplace=True)  # Eliminar la columna target\n",
    "df_iris"
   ],
   "id": "4b97c4a6d4ce8d8d",
   "outputs": [
    {
     "data": {
      "text/plain": [
       "     sepal length (cm)  sepal width (cm)  petal length (cm)  petal width (cm)  \\\n",
       "0                  5.1               3.5                1.4               0.2   \n",
       "1                  4.9               3.0                1.4               0.2   \n",
       "2                  4.7               3.2                1.3               0.2   \n",
       "3                  4.6               3.1                1.5               0.2   \n",
       "4                  5.0               3.6                1.4               0.2   \n",
       "..                 ...               ...                ...               ...   \n",
       "145                6.7               3.0                5.2               2.3   \n",
       "146                6.3               2.5                5.0               1.9   \n",
       "147                6.5               3.0                5.2               2.0   \n",
       "148                6.2               3.4                5.4               2.3   \n",
       "149                5.9               3.0                5.1               1.8   \n",
       "\n",
       "       species  \n",
       "0       setosa  \n",
       "1       setosa  \n",
       "2       setosa  \n",
       "3       setosa  \n",
       "4       setosa  \n",
       "..         ...  \n",
       "145  virginica  \n",
       "146  virginica  \n",
       "147  virginica  \n",
       "148  virginica  \n",
       "149  virginica  \n",
       "\n",
       "[150 rows x 5 columns]"
      ],
      "text/html": [
       "<div>\n",
       "<style scoped>\n",
       "    .dataframe tbody tr th:only-of-type {\n",
       "        vertical-align: middle;\n",
       "    }\n",
       "\n",
       "    .dataframe tbody tr th {\n",
       "        vertical-align: top;\n",
       "    }\n",
       "\n",
       "    .dataframe thead th {\n",
       "        text-align: right;\n",
       "    }\n",
       "</style>\n",
       "<table border=\"1\" class=\"dataframe\">\n",
       "  <thead>\n",
       "    <tr style=\"text-align: right;\">\n",
       "      <th></th>\n",
       "      <th>sepal length (cm)</th>\n",
       "      <th>sepal width (cm)</th>\n",
       "      <th>petal length (cm)</th>\n",
       "      <th>petal width (cm)</th>\n",
       "      <th>species</th>\n",
       "    </tr>\n",
       "  </thead>\n",
       "  <tbody>\n",
       "    <tr>\n",
       "      <th>0</th>\n",
       "      <td>5.1</td>\n",
       "      <td>3.5</td>\n",
       "      <td>1.4</td>\n",
       "      <td>0.2</td>\n",
       "      <td>setosa</td>\n",
       "    </tr>\n",
       "    <tr>\n",
       "      <th>1</th>\n",
       "      <td>4.9</td>\n",
       "      <td>3.0</td>\n",
       "      <td>1.4</td>\n",
       "      <td>0.2</td>\n",
       "      <td>setosa</td>\n",
       "    </tr>\n",
       "    <tr>\n",
       "      <th>2</th>\n",
       "      <td>4.7</td>\n",
       "      <td>3.2</td>\n",
       "      <td>1.3</td>\n",
       "      <td>0.2</td>\n",
       "      <td>setosa</td>\n",
       "    </tr>\n",
       "    <tr>\n",
       "      <th>3</th>\n",
       "      <td>4.6</td>\n",
       "      <td>3.1</td>\n",
       "      <td>1.5</td>\n",
       "      <td>0.2</td>\n",
       "      <td>setosa</td>\n",
       "    </tr>\n",
       "    <tr>\n",
       "      <th>4</th>\n",
       "      <td>5.0</td>\n",
       "      <td>3.6</td>\n",
       "      <td>1.4</td>\n",
       "      <td>0.2</td>\n",
       "      <td>setosa</td>\n",
       "    </tr>\n",
       "    <tr>\n",
       "      <th>...</th>\n",
       "      <td>...</td>\n",
       "      <td>...</td>\n",
       "      <td>...</td>\n",
       "      <td>...</td>\n",
       "      <td>...</td>\n",
       "    </tr>\n",
       "    <tr>\n",
       "      <th>145</th>\n",
       "      <td>6.7</td>\n",
       "      <td>3.0</td>\n",
       "      <td>5.2</td>\n",
       "      <td>2.3</td>\n",
       "      <td>virginica</td>\n",
       "    </tr>\n",
       "    <tr>\n",
       "      <th>146</th>\n",
       "      <td>6.3</td>\n",
       "      <td>2.5</td>\n",
       "      <td>5.0</td>\n",
       "      <td>1.9</td>\n",
       "      <td>virginica</td>\n",
       "    </tr>\n",
       "    <tr>\n",
       "      <th>147</th>\n",
       "      <td>6.5</td>\n",
       "      <td>3.0</td>\n",
       "      <td>5.2</td>\n",
       "      <td>2.0</td>\n",
       "      <td>virginica</td>\n",
       "    </tr>\n",
       "    <tr>\n",
       "      <th>148</th>\n",
       "      <td>6.2</td>\n",
       "      <td>3.4</td>\n",
       "      <td>5.4</td>\n",
       "      <td>2.3</td>\n",
       "      <td>virginica</td>\n",
       "    </tr>\n",
       "    <tr>\n",
       "      <th>149</th>\n",
       "      <td>5.9</td>\n",
       "      <td>3.0</td>\n",
       "      <td>5.1</td>\n",
       "      <td>1.8</td>\n",
       "      <td>virginica</td>\n",
       "    </tr>\n",
       "  </tbody>\n",
       "</table>\n",
       "<p>150 rows × 5 columns</p>\n",
       "</div>"
      ]
     },
     "execution_count": 38,
     "metadata": {},
     "output_type": "execute_result"
    }
   ],
   "execution_count": 38
  },
  {
   "cell_type": "markdown",
   "id": "ce2ee3c3",
   "metadata": {},
   "source": [
    "1. Crea un gráfico de dispersión con `sepal length (cm)` en el eje X y `sepal width (cm)` en el eje Y.\n",
    "2. Usa el argumento `hue` para diferenciar las especies de flores.\n",
    "3. Agrega un título descriptivo.\n",
    "4. Ajusta el tamaño de los puntos o la paleta de colores para que el gráfico sea más claro. **(Opcional)**\n",
    "5. Escribe tus observaciones, conclusiones o notas en una celda markdown."
   ]
  },
  {
   "metadata": {
    "ExecuteTime": {
     "end_time": "2025-10-10T02:16:58.280095Z",
     "start_time": "2025-10-10T02:16:58.273263Z"
    }
   },
   "cell_type": "code",
   "source": "# Tu código",
   "id": "f527de4e0903ab0",
   "outputs": [],
   "execution_count": 39
  },
  {
   "cell_type": "markdown",
   "id": "9b181243",
   "metadata": {},
   "source": [
    "## Ejercicio 5 - Visualización de distribuciones con histogramas\n",
    "\n",
    "En muchos casos, no solo nos interesa el valor de una variable, sino **cómo se distribuyen** esos valores.\n",
    "\n",
    "Los histogramas son una herramienta visual muy útil para:\n",
    "\n",
    "- Ver si los datos están **centrados** o dispersos.\n",
    "- Detectar **asimetrías** (por ejemplo, si hay más valores bajos o altos).\n",
    "- Identificar posibles **valores atípicos** (*outliers*).\n",
    "- Observar la **forma general** de la distribución (normal, sesgada, bimodal, etc.).\n",
    "\n",
    "Vamos a explorar cómo se distribuye el **largo del pétalo** (`petal length (cm)`) en un conjunto de datos de flores."
   ]
  },
  {
   "cell_type": "code",
   "id": "20359165",
   "metadata": {
    "ExecuteTime": {
     "end_time": "2025-10-10T02:16:58.688372Z",
     "start_time": "2025-10-10T02:16:58.668885Z"
    }
   },
   "source": "df_iris.head()",
   "outputs": [
    {
     "data": {
      "text/plain": [
       "   sepal length (cm)  sepal width (cm)  petal length (cm)  petal width (cm)  \\\n",
       "0                5.1               3.5                1.4               0.2   \n",
       "1                4.9               3.0                1.4               0.2   \n",
       "2                4.7               3.2                1.3               0.2   \n",
       "3                4.6               3.1                1.5               0.2   \n",
       "4                5.0               3.6                1.4               0.2   \n",
       "\n",
       "  species  \n",
       "0  setosa  \n",
       "1  setosa  \n",
       "2  setosa  \n",
       "3  setosa  \n",
       "4  setosa  "
      ],
      "text/html": [
       "<div>\n",
       "<style scoped>\n",
       "    .dataframe tbody tr th:only-of-type {\n",
       "        vertical-align: middle;\n",
       "    }\n",
       "\n",
       "    .dataframe tbody tr th {\n",
       "        vertical-align: top;\n",
       "    }\n",
       "\n",
       "    .dataframe thead th {\n",
       "        text-align: right;\n",
       "    }\n",
       "</style>\n",
       "<table border=\"1\" class=\"dataframe\">\n",
       "  <thead>\n",
       "    <tr style=\"text-align: right;\">\n",
       "      <th></th>\n",
       "      <th>sepal length (cm)</th>\n",
       "      <th>sepal width (cm)</th>\n",
       "      <th>petal length (cm)</th>\n",
       "      <th>petal width (cm)</th>\n",
       "      <th>species</th>\n",
       "    </tr>\n",
       "  </thead>\n",
       "  <tbody>\n",
       "    <tr>\n",
       "      <th>0</th>\n",
       "      <td>5.1</td>\n",
       "      <td>3.5</td>\n",
       "      <td>1.4</td>\n",
       "      <td>0.2</td>\n",
       "      <td>setosa</td>\n",
       "    </tr>\n",
       "    <tr>\n",
       "      <th>1</th>\n",
       "      <td>4.9</td>\n",
       "      <td>3.0</td>\n",
       "      <td>1.4</td>\n",
       "      <td>0.2</td>\n",
       "      <td>setosa</td>\n",
       "    </tr>\n",
       "    <tr>\n",
       "      <th>2</th>\n",
       "      <td>4.7</td>\n",
       "      <td>3.2</td>\n",
       "      <td>1.3</td>\n",
       "      <td>0.2</td>\n",
       "      <td>setosa</td>\n",
       "    </tr>\n",
       "    <tr>\n",
       "      <th>3</th>\n",
       "      <td>4.6</td>\n",
       "      <td>3.1</td>\n",
       "      <td>1.5</td>\n",
       "      <td>0.2</td>\n",
       "      <td>setosa</td>\n",
       "    </tr>\n",
       "    <tr>\n",
       "      <th>4</th>\n",
       "      <td>5.0</td>\n",
       "      <td>3.6</td>\n",
       "      <td>1.4</td>\n",
       "      <td>0.2</td>\n",
       "      <td>setosa</td>\n",
       "    </tr>\n",
       "  </tbody>\n",
       "</table>\n",
       "</div>"
      ]
     },
     "execution_count": 40,
     "metadata": {},
     "output_type": "execute_result"
    }
   ],
   "execution_count": 40
  },
  {
   "cell_type": "markdown",
   "id": "6b47718c",
   "metadata": {},
   "source": [
    "1. Crea un **histograma con `Seaborn`** para visualizar la distribución del largo del pétalo (`petal length (cm)`).\n",
    "2. Ajusta el número de *bins* para tener mayor o menor nivel de detalle. (bins = auto, fd, doane, scott, stone, rice, sturges, sqrt)\n",
    "3. Agrega título, etiquetas y un estilo visual claro.\n",
    "4. Escribe tus observaciones, conclusiones o notas en una celda markdown."
   ]
  },
  {
   "cell_type": "code",
   "id": "f00b19fc",
   "metadata": {
    "ExecuteTime": {
     "end_time": "2025-10-10T02:16:59.151331Z",
     "start_time": "2025-10-10T02:16:59.145417Z"
    }
   },
   "source": "# Tu código",
   "outputs": [],
   "execution_count": 41
  },
  {
   "cell_type": "markdown",
   "id": "0f22b0b7",
   "metadata": {},
   "source": [
    "## Comparación por especie (distribuciones múltiples)\n",
    "\n",
    "Ahora, compara la distribución del largo del pétalo para cada especie de flor usando `Seaborn` y el argumento `hue`.\n",
    "\n",
    "Esto te permitirá analizar si hay **diferencias significativas** entre los grupos.\n",
    "\n",
    "- Escribe tus observaciones, conclusiones o notas en una celda markdown."
   ]
  },
  {
   "metadata": {
    "ExecuteTime": {
     "end_time": "2025-10-10T02:16:59.379273Z",
     "start_time": "2025-10-10T02:16:59.371153Z"
    }
   },
   "cell_type": "code",
   "source": "# Tu código",
   "id": "7c2c9d3f",
   "outputs": [],
   "execution_count": 42
  },
  {
   "cell_type": "markdown",
   "id": "fa0870cf",
   "metadata": {},
   "source": [
    "## Ejercicio 6 - Visualización de relaciones con mapas de calor (heatmap)\n",
    "\n",
    "En ciencia de datos es importante comprender cómo se relacionan las variables entre sí. Una forma visual de hacerlo es usando mapas de calor, especialmente sobre matrices de correlación.\n",
    "\n",
    "En este ejercicio vamos a visualizar cómo se relacionan las variables numéricas del conjunto `df_iris`.\n",
    "\n",
    "\n",
    "\n",
    "1. Crea un mapa de calor que muestre la correlación entre las variables numéricas del DataFrame `df_iris`.Primero necesitas calcular la matriz de correlación usando `.corr()`.\n",
    "2. Usa la librería **seaborn** para graficar el heatmap.\n",
    "3. Activa la visualización de los valores dentro del gráfico `(annot=True)`.\n",
    "4. Escribe tus observaciones, conclusiones o notas en una celda markdown."
   ]
  },
  {
   "cell_type": "code",
   "id": "2aa7380c",
   "metadata": {
    "ExecuteTime": {
     "end_time": "2025-10-10T02:16:59.619085Z",
     "start_time": "2025-10-10T02:16:59.606733Z"
    }
   },
   "source": "# Calcular la matriz de correlación\n",
   "outputs": [],
   "execution_count": 43
  },
  {
   "metadata": {
    "ExecuteTime": {
     "end_time": "2025-10-10T02:16:59.744467Z",
     "start_time": "2025-10-10T02:16:59.730507Z"
    }
   },
   "cell_type": "code",
   "source": "# Crear el heatmap\n",
   "id": "6dd8e310ccb31a15",
   "outputs": [],
   "execution_count": 44
  },
  {
   "cell_type": "markdown",
   "id": "fea9a57e",
   "metadata": {},
   "source": [
    "## Ejercicio 7 - Visualización de la distribución por categorías con boxplot\n",
    "\n",
    "El boxplot (o diagrama de caja) permite comparar cómo se distribuye una variable numérica según distintas categorías.\n",
    "\n",
    "Vamos a comparar la distribución del largo del pétalo (petal_length) entre las distintas especies de flores del conjunto `df_iris`. La idea es que grafiques un boxplot que compare el largo del pétalo (`petal length (cm)`) entre las diferentes especies (species).\n",
    "\n",
    "\n",
    "1. Usa `seaborn.boxplot()` indicando el eje `x` con la especie y `y` con el largo del pétalo.\n",
    "2. Es recomendable usar `plt.figure()` para ajustar el tamaño del gráfico si es necesario.\n",
    "3. Escribe tus observaciones, conclusiones o notas en una celda markdown."
   ]
  },
  {
   "cell_type": "code",
   "id": "5731170a",
   "metadata": {
    "ExecuteTime": {
     "end_time": "2025-10-10T02:16:59.786361Z",
     "start_time": "2025-10-10T02:16:59.781587Z"
    }
   },
   "source": "# Tu código",
   "outputs": [],
   "execution_count": 45
  }
 ],
 "metadata": {
  "kernelspec": {
   "display_name": "Python 3",
   "language": "python",
   "name": "python3"
  },
  "language_info": {
   "codemirror_mode": {
    "name": "ipython",
    "version": 3
   },
   "file_extension": ".py",
   "mimetype": "text/x-python",
   "name": "python",
   "nbconvert_exporter": "python",
   "pygments_lexer": "ipython3",
   "version": "3.11.4"
  }
 },
 "nbformat": 4,
 "nbformat_minor": 5
}
